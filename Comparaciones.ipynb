{
 "cells": [
  {
   "cell_type": "code",
   "execution_count": null,
   "id": "a585c89f-0b71-4f9b-b9dc-f614d4fe75f6",
   "metadata": {},
   "outputs": [],
   "source": [
    "from metricsGAN import get_midi_pattern, get_all_stats\n",
    "import os\n",
    "import re\n",
    "import seaborn as sns\n",
    "import pandas as pd\n",
    "import matplotlib.pyplot as plt\n",
    "from music21 import corpus, converter\n",
    "from IPython.display import Image, Audio"
   ]
  },
  {
   "cell_type": "code",
   "execution_count": null,
   "id": "ce190445-20c4-42d9-b7ea-420e6c4a028e",
   "metadata": {},
   "outputs": [],
   "source": [
    "def play(music):\n",
    "  filename = music.write('mid')\n",
    "  !fluidsynth -ni font.sf2 $filename -F $filename\\.wav -r 16000 > /dev/null\n",
    "  display(Audio(str(filename) + '.wav'))"
   ]
  },
  {
   "cell_type": "code",
   "execution_count": null,
   "id": "92a2fedf-6bbb-44aa-b369-4e1286b15fcc",
   "metadata": {},
   "outputs": [],
   "source": [
    "route_rnn = './output/classical/output/'\n",
    "files = os.listdir(route_rnn)\n",
    "polyphony_4i = [get_all_stats(get_midi_pattern(f'{route_rnn}{file}'))[\"scale\"] for file in files if re.match(r'(^04i)', file)]"
   ]
  },
  {
   "cell_type": "code",
   "execution_count": null,
   "id": "7790d1e9-ec3a-49e6-be3c-99d1ac3866fa",
   "metadata": {},
   "outputs": [],
   "source": [
    "data = pd.DataFrame(polyphony_4i,columns=['scale'])\n",
    "sns.histplot(data=data,x=\"scale\")"
   ]
  },
  {
   "cell_type": "code",
   "execution_count": null,
   "id": "e767fc88-5133-4274-b37e-3c9f9dc186cb",
   "metadata": {},
   "outputs": [],
   "source": [
    "polyphony_297i = [get_all_stats(get_midi_pattern(f'{route_rnn}{file}'))[\"polyphony_score\"] for file in files if re.match(r'(^297i)', file)]\n",
    "data = pd.DataFrame(polyphony_297i,columns=['poly'])\n",
    "sns.histplot(data=data,x=\"poly\",binwidth=0.1)"
   ]
  },
  {
   "cell_type": "code",
   "execution_count": null,
   "id": "15c016ad-2f5e-4b5c-96df-440df718913e",
   "metadata": {},
   "outputs": [],
   "source": [
    "polyphony_330i = [get_all_stats(get_midi_pattern(f'{route_rnn}{file}'))[\"polyphony_score\"] for file in files if re.match(r'(^330i)', file)]\n",
    "data = pd.DataFrame(polyphony_330i,columns=['poly'])\n",
    "sns.histplot(data=data,x=\"poly\",binwidth=0.1)"
   ]
  },
  {
   "cell_type": "code",
   "execution_count": null,
   "id": "33b7aa5b-4800-49f7-9a5c-de4226290631",
   "metadata": {},
   "outputs": [],
   "source": [
    "polyphony_372i = [get_all_stats(get_midi_pattern(f'{route_rnn}{file}'))[\"polyphony_score\"] for file in files if re.match(r'(^372i)', file)]\n",
    "data = pd.DataFrame(polyphony_372i,columns=['poly'])\n",
    "sns.histplot(data=data,x=\"poly\",binwidth=0.1)"
   ]
  },
  {
   "cell_type": "code",
   "execution_count": null,
   "id": "200f6bc6-f638-40dc-89f1-9b3c931aa8d8",
   "metadata": {},
   "outputs": [],
   "source": [
    "play(converter.parse(\"./output/classical/output/330i_12.mid\").chordify())"
   ]
  }
 ],
 "metadata": {
  "kernelspec": {
   "display_name": "Python 3 (ipykernel)",
   "language": "python",
   "name": "python3"
  },
  "language_info": {
   "codemirror_mode": {
    "name": "ipython",
    "version": 3
   },
   "file_extension": ".py",
   "mimetype": "text/x-python",
   "name": "python",
   "nbconvert_exporter": "python",
   "pygments_lexer": "ipython3",
   "version": "3.9.7"
  }
 },
 "nbformat": 4,
 "nbformat_minor": 5
}
